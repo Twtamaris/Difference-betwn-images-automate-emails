{
 "cells": [
  {
   "cell_type": "code",
   "execution_count": 1,
   "metadata": {},
   "outputs": [],
   "source": [
    "import win32com.client as win32"
   ]
  },
  {
   "cell_type": "code",
   "execution_count": 2,
   "metadata": {},
   "outputs": [],
   "source": [
    "olApp = win32.Dispatch(\"Outlook.Application\")\n",
    "olNS = olApp.GetNameSpace('MAPI')"
   ]
  },
  {
   "cell_type": "code",
   "execution_count": null,
   "metadata": {},
   "outputs": [],
   "source": []
  },
  {
   "cell_type": "code",
   "execution_count": null,
   "metadata": {},
   "outputs": [],
   "source": [
    "mail_item = olApp.CreateItem(0)\n",
    "mail_item.Subject = 'Wow, this is a subject'\n",
    "mail_item.Body = 'Hello, K xa ta Bhai Timro Khabar, Timi le ta ajakal phone pani gardainau ta'\n",
    "mail_item.Sender = 'saurabbaral03@gmail.com'\n",
    "mail_item.To = 'nishantbhattrai480@gmail.com'\n",
    "\n",
    "\n",
    "mail_item.Display()\n",
    "mail_item.save()\n",
    "mail_item.Send()"
   ]
  }
 ],
 "metadata": {
  "kernelspec": {
   "display_name": "Python 3.9.5 64-bit (system)",
   "language": "python",
   "name": "python3"
  },
  "language_info": {
   "codemirror_mode": {
    "name": "ipython",
    "version": 3
   },
   "file_extension": ".py",
   "mimetype": "text/x-python",
   "name": "python",
   "nbconvert_exporter": "python",
   "pygments_lexer": "ipython3",
   "version": "3.9.5"
  },
  "orig_nbformat": 4,
  "vscode": {
   "interpreter": {
    "hash": "aa2cd9eca86c64907fa0bafc2fca3ee626c0d5b292b0ae3ee59519167eb17ea1"
   }
  }
 },
 "nbformat": 4,
 "nbformat_minor": 2
}
