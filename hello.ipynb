{
 "cells": [
  {
   "cell_type": "code",
   "execution_count": 47,
   "metadata": {},
   "outputs": [],
   "source": [
    "# Pip install PyPDF 2\n"
   ]
  },
  {
   "cell_type": "code",
   "execution_count": 48,
   "metadata": {},
   "outputs": [],
   "source": [
    "import PyPDF2"
   ]
  },
  {
   "cell_type": "code",
   "execution_count": 49,
   "metadata": {},
   "outputs": [],
   "source": [
    "#rb = read binary\n",
    "pdf_file = open(r\"C:\\Users\\baral\\Downloads\\sample.pdf\", 'rb')\n",
    "\n"
   ]
  },
  {
   "cell_type": "code",
   "execution_count": 50,
   "metadata": {},
   "outputs": [
    {
     "name": "stdout",
     "output_type": "stream",
     "text": [
      "<PyPDF2._reader.PdfFileReader object at 0x000002007E9F0880>\n"
     ]
    }
   ],
   "source": [
    "#yesle File lai read garxa\n",
    "pdf_reader = PyPDF2.PdfFileReader(pdf_file)\n",
    "\n",
    "print(pdf_reader)"
   ]
  },
  {
   "cell_type": "code",
   "execution_count": 51,
   "metadata": {},
   "outputs": [
    {
     "name": "stdout",
     "output_type": "stream",
     "text": [
      "2\n"
     ]
    }
   ],
   "source": [
    "\n",
    "page_count = pdf_reader.numPages\n",
    "print(page_count)"
   ]
  },
  {
   "cell_type": "code",
   "execution_count": 52,
   "metadata": {},
   "outputs": [
    {
     "name": "stdout",
     "output_type": "stream",
     "text": [
      "{'/Type': '/Page', '/Parent': IndirectObject(3, 0), '/Resources': {'/Font': {'/F1': IndirectObject(9, 0)}, '/ProcSet': IndirectObject(8, 0)}, '/MediaBox': [0, 0, 612, 792], '/Contents': IndirectObject(5, 0)}\n"
     ]
    }
   ],
   "source": [
    "page_text = pdf_reader.getPage(page_count-2)\n",
    "print(page_text)"
   ]
  },
  {
   "cell_type": "code",
   "execution_count": 53,
   "metadata": {},
   "outputs": [
    {
     "data": {
      "text/plain": [
       "' A Simple PDF File \\n\\n This is a small demonstration .pdf file - \\n\\n just for use in the Virtual Mechanics tutorials. More text. And more \\n\\n text. And more text. And more text. And more text. \\n\\n And more text. And more text. And more text. And more text. And more \\n\\n text. And more text. Boring, zzzzz. And more text. And more text. And \\n\\n more text. And more text. And more text. And more text. And more text. \\n\\n And more text. And more text. \\n\\n And more text. And more text. And more text. And more text. And more \\n\\n text. And more text. And more text. Even more. Continued on page 2 ...'"
      ]
     },
     "execution_count": 53,
     "metadata": {},
     "output_type": "execute_result"
    }
   ],
   "source": [
    "text = page_text.extract_text()\n",
    "text"
   ]
  },
  {
   "cell_type": "code",
   "execution_count": 54,
   "metadata": {},
   "outputs": [
    {
     "name": "stdout",
     "output_type": "stream",
     "text": [
      " A Simple PDF File \n",
      "\n",
      " This is a small demonstration .pdf file - \n",
      "\n",
      " just for use in the Virtual Mechanics tutorials. More text. And more \n",
      "\n",
      " text. And more text. And more text. And more text. \n",
      "\n",
      " And more text. And more text. And more text. And more text. And more \n",
      "\n",
      " text. And more text. Boring, zzzzz. And more text. And more text. And \n",
      "\n",
      " more text. And more text. And more text. And more text. And more text. \n",
      "\n",
      " And more text. And more text. \n",
      "\n",
      " And more text. And more text. And more text. And more text. And more \n",
      "\n",
      " text. And more text. And more text. Even more. Continued on page 2 ...\n"
     ]
    }
   ],
   "source": [
    "print(text)"
   ]
  },
  {
   "cell_type": "code",
   "execution_count": 55,
   "metadata": {},
   "outputs": [
    {
     "name": "stdout",
     "output_type": "stream",
     "text": [
      "a\n"
     ]
    }
   ],
   "source": [
    "for i in text.split():\n",
    "    if i.startswith('a'):\n",
    "        print(i)"
   ]
  },
  {
   "cell_type": "code",
   "execution_count": 56,
   "metadata": {},
   "outputs": [],
   "source": [
    "txt_file = open(r'C:\\Users\\baral\\Desktop\\extract_pdf_to_text\\hello.txt', 'a')\n",
    "txt_file.writelines(text)\n",
    "txt_file.close()"
   ]
  }
 ],
 "metadata": {
  "kernelspec": {
   "display_name": "Python 3.9.5 64-bit (system)",
   "language": "python",
   "name": "python3"
  },
  "language_info": {
   "codemirror_mode": {
    "name": "ipython",
    "version": 3
   },
   "file_extension": ".py",
   "mimetype": "text/x-python",
   "name": "python",
   "nbconvert_exporter": "python",
   "pygments_lexer": "ipython3",
   "version": "3.9.5"
  },
  "orig_nbformat": 4,
  "vscode": {
   "interpreter": {
    "hash": "aa2cd9eca86c64907fa0bafc2fca3ee626c0d5b292b0ae3ee59519167eb17ea1"
   }
  }
 },
 "nbformat": 4,
 "nbformat_minor": 2
}
