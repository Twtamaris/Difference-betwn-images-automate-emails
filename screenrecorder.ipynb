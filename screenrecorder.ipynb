{
 "cells": [
  {
   "cell_type": "code",
   "execution_count": 25,
   "metadata": {},
   "outputs": [],
   "source": [
    "from PIL import ImageGrab\n",
    "import numpy as np\n",
    "import cv2\n",
    "from win32api import GetSystemMetrics"
   ]
  },
  {
   "cell_type": "code",
   "execution_count": 26,
   "metadata": {},
   "outputs": [
    {
     "name": "stdout",
     "output_type": "stream",
     "text": [
      "This is Second[[[ 59  59  59]\n",
      "  [ 72  73  73]\n",
      "  [102 105 109]\n",
      "  ...\n",
      "  [157 158 146]\n",
      "  [156 157 145]\n",
      "  [156 157 144]]\n",
      "\n",
      " [[ 66  64  63]\n",
      "  [ 54  54  54]\n",
      "  [ 52  55  56]\n",
      "  ...\n",
      "  [156 158 145]\n",
      "  [156 157 145]\n",
      "  [155 156 144]]\n",
      "\n",
      " [[ 66  64  60]\n",
      "  [100  99  95]\n",
      "  [ 65  66  64]\n",
      "  ...\n",
      "  [ 18  18 109]\n",
      "  [ 18  18 109]\n",
      "  [ 18  18 109]]\n",
      "\n",
      " ...\n",
      "\n",
      " [[ 56  83  78]\n",
      "  [ 53  80  75]\n",
      "  [ 39  22   1]\n",
      "  ...\n",
      "  [ 14  14  14]\n",
      "  [ 15  15  15]\n",
      "  [ 11  11  11]]\n",
      "\n",
      " [[ 47  79  74]\n",
      "  [ 48  81  75]\n",
      "  [ 39  22   1]\n",
      "  ...\n",
      "  [  8   8   8]\n",
      "  [  8   8   8]\n",
      "  [  9   9   9]]\n",
      "\n",
      " [[ 50  87  79]\n",
      "  [ 50  87  78]\n",
      "  [ 39  22   1]\n",
      "  ...\n",
      "  [ 10  10  10]\n",
      "  [ 10  10  10]\n",
      "  [ 10  10  10]]]\n"
     ]
    }
   ],
   "source": [
    "width, height = GetSystemMetrics(0), GetSystemMetrics(1)\n",
    "\n",
    "file_name = f'abc.mp4'\n",
    "fourc = cv2.VideoWriter_fourcc('m', 'p', '4', 'v')\n",
    "capture_video = cv2.VideoWriter(file_name, fourc, 20, (width, height))\n",
    "\n",
    "while True:\n",
    "    img = ImageGrab.grab(bbox=(0,0, width, height))\n",
    "    img_np = np.array(img)\n",
    "    img_np = cv2.cvtColor(img_np, cv2.COLOR_BGR2RGB)\n",
    "    capture_video.write(img_np)\n",
    "    cv2.imshow('screen', img_np) \n",
    "    if cv2.waitKey(10) == ord('q'):\n",
    "        cv2.destroyAllWindows()\n",
    "        break\n",
    "    "
   ]
  }
 ],
 "metadata": {
  "kernelspec": {
   "display_name": "Python 3.9.5 64-bit (system)",
   "language": "python",
   "name": "python3"
  },
  "language_info": {
   "codemirror_mode": {
    "name": "ipython",
    "version": 3
   },
   "file_extension": ".py",
   "mimetype": "text/x-python",
   "name": "python",
   "nbconvert_exporter": "python",
   "pygments_lexer": "ipython3",
   "version": "3.9.5"
  },
  "orig_nbformat": 4,
  "vscode": {
   "interpreter": {
    "hash": "aa2cd9eca86c64907fa0bafc2fca3ee626c0d5b292b0ae3ee59519167eb17ea1"
   }
  }
 },
 "nbformat": 4,
 "nbformat_minor": 2
}
